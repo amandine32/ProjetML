{
 "cells": [
  {
   "cell_type": "code",
   "execution_count": 1,
   "metadata": {},
   "outputs": [],
   "source": [
    "import numpy as np\n"
   ]
  },
  {
   "cell_type": "code",
   "execution_count": 2,
   "metadata": {},
   "outputs": [],
   "source": [
    "ratings_train = np.load('ratings_train.npy')\n",
    "ratings_test = np.load('ratings_test.npy')\n",
    "namegenres = np.load('namesngenre.npy', allow_pickle=True)\n",
    "list_index_wanted = np.load('list_index_wanted.npy')\n"
   ]
  },
  {
   "cell_type": "code",
   "execution_count": 4,
   "metadata": {},
   "outputs": [
    {
     "name": "stdout",
     "output_type": "stream",
     "text": [
      "Dimensions de ratings_train: (610, 4980)\n",
      "Dimensions de ratings_test: (610, 4980)\n",
      "Dimensions de namegenres: (4980, 2)\n",
      "Dimensions de list_index_wanted: (31598, 2)\n"
     ]
    }
   ],
   "source": [
    "print(\"Dimensions de ratings_train:\", ratings_train.shape)\n",
    "print(\"Dimensions de ratings_test:\", ratings_test.shape)\n",
    "print(\"Dimensions de namegenres:\", namegenres.shape)\n",
    "print(\"Dimensions de list_index_wanted:\", list_index_wanted.shape)\n"
   ]
  }
 ],
 "metadata": {
  "kernelspec": {
   "display_name": ".venv",
   "language": "python",
   "name": "python3"
  },
  "language_info": {
   "codemirror_mode": {
    "name": "ipython",
    "version": 3
   },
   "file_extension": ".py",
   "mimetype": "text/x-python",
   "name": "python",
   "nbconvert_exporter": "python",
   "pygments_lexer": "ipython3",
   "version": "3.9.6"
  }
 },
 "nbformat": 4,
 "nbformat_minor": 2
}
