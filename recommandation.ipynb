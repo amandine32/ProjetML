{
 "cells": [
  {
   "cell_type": "code",
   "execution_count": 26,
   "metadata": {},
   "outputs": [],
   "source": [
    "import numpy as np\n"
   ]
  },
  {
   "cell_type": "code",
   "execution_count": 27,
   "metadata": {},
   "outputs": [],
   "source": [
    "ratings_train = np.load('ratings_train.npy')\n",
    "ratings_test = np.load('ratings_test.npy')\n",
    "namegenres = np.load('namesngenre.npy', allow_pickle=True)\n",
    "list_index_wanted = np.load('list_index_wanted.npy')\n"
   ]
  },
  {
   "cell_type": "code",
   "execution_count": 28,
   "metadata": {},
   "outputs": [
    {
     "name": "stdout",
     "output_type": "stream",
     "text": [
      "Dimensions de ratings_train: (610, 4980)\n",
      "Dimensions de ratings_test: (610, 4980)\n",
      "Dimensions de namegenres: (4980, 2)\n",
      "Dimensions de list_index_wanted: (31598, 2)\n"
     ]
    }
   ],
   "source": [
    "print(\"Dimensions de ratings_train:\", ratings_train.shape)\n",
    "print(\"Dimensions de ratings_test:\", ratings_test.shape)\n",
    "print(\"Dimensions de namegenres:\", namegenres.shape)\n",
    "print(\"Dimensions de list_index_wanted:\", list_index_wanted.shape)\n"
   ]
  },
  {
   "cell_type": "code",
   "execution_count": 29,
   "metadata": {},
   "outputs": [
    {
     "name": "stdout",
     "output_type": "stream",
     "text": [
      "Aperçu de ratings_train: [[ 4. nan nan ... nan nan nan]\n",
      " [nan nan nan ... nan nan nan]\n",
      " [nan nan nan ... nan nan nan]\n",
      " [nan nan nan ... nan nan nan]\n",
      " [nan nan nan ... nan nan nan]]\n",
      "Aperçu de ratings_test: [[nan nan  4. ... nan nan nan]\n",
      " [nan nan nan ... nan nan nan]\n",
      " [nan nan nan ... nan nan nan]\n",
      " [nan nan nan ... nan nan nan]\n",
      " [ 4. nan nan ... nan nan nan]]\n",
      "Aperçu de namegenres: [['Toy Story (1995)' 'Adventure|Animation|Children|Comedy|Fantasy']\n",
      " ['Jumanji (1995)' 'Adventure|Children|Fantasy']\n",
      " ['Grumpier Old Men (1995)' 'Comedy|Romance']\n",
      " ['Waiting to Exhale (1995)' 'Comedy|Drama|Romance']\n",
      " ['Father of the Bride Part II (1995)' 'Comedy']]\n",
      "Aperçu de list_index_wanted: [[  0  42]\n",
      " [  0 237]\n",
      " [  0 250]\n",
      " [  0 261]\n",
      " [  0 265]]\n"
     ]
    }
   ],
   "source": [
    "import numpy as np\n",
    "\n",
    "# Charger les données\n",
    "ratings_train = np.load('ratings_train.npy')\n",
    "ratings_test = np.load('ratings_test.npy')\n",
    "namegenres = np.load('namesngenre.npy', allow_pickle=True)  # Si le fichier contient des données de types variés\n",
    "list_index_wanted = np.load('list_index_wanted.npy')\n",
    "\n",
    "# Afficher un aperçu des données\n",
    "print(\"Aperçu de ratings_train:\", ratings_train[:5])  # Affiche les 5 premières lignes\n",
    "print(\"Aperçu de ratings_test:\", ratings_test[:5])    # Affiche les 5 premières lignes\n",
    "print(\"Aperçu de namegenres:\", namegenres[:5])        # Affiche les 5 premières lignes\n",
    "print(\"Aperçu de list_index_wanted:\", list_index_wanted[:5])  # Affiche les 5 premières lignes\n"
   ]
  },
  {
   "cell_type": "code",
   "execution_count": 30,
   "metadata": {},
   "outputs": [],
   "source": [
    "ratings_train_matrix = np.nan_to_num(ratings_train, nan=0)\n",
    "ratings_test_matrix = np.nan_to_num(ratings_test, nan=0)"
   ]
  },
  {
   "cell_type": "code",
   "execution_count": 31,
   "metadata": {},
   "outputs": [],
   "source": [
    "train_data = [\n",
    "    (i+1, j+1, ratings_train_matrix[i, j])\n",
    "    for i in range(ratings_train_matrix.shape[0])\n",
    "    for j in range(ratings_train_matrix.shape[1])\n",
    "    if ratings_train_matrix[i,j] != 0\n",
    "]"
   ]
  },
  {
   "cell_type": "code",
   "execution_count": 32,
   "metadata": {},
   "outputs": [],
   "source": [
    "import numpy as np\n",
    "import pandas as pd  # Import Pandas pour créer le DataFrame\n",
    "\n",
    "from surprise import Dataset, Reader, SVD\n",
    "from surprise import accuracy\n",
    "\n",
    "# Création du reader avec l'échelle de notation (en supposant que ratings_train_matrix est déjà chargé)\n",
    "reader = Reader(rating_scale=(ratings_train_matrix.min(), ratings_train_matrix.max()))\n",
    "\n",
    "# Transforme `train_data` en DataFrame avec les bonnes colonnes\n",
    "train_data_df = pd.DataFrame(train_data, columns=[\"user_id\", \"item_id\", \"rating\"])\n",
    "\n",
    "# Chargement du dataset avec surprise\n",
    "train_dataset = Dataset.load_from_df(train_data_df, reader)\n",
    "trainset = train_dataset.build_full_trainset()\n"
   ]
  },
  {
   "cell_type": "code",
   "execution_count": 33,
   "metadata": {},
   "outputs": [],
   "source": [
    "import numpy as np\n",
    "import pandas as pd  # Import Pandas pour créer le DataFrame\n",
    "\n",
    "from surprise import Dataset, Reader, SVD\n",
    "from surprise import accuracy\n",
    "\n",
    "# Création du reader avec l'échelle de notation\n",
    "reader = Reader(rating_scale=(ratings_train_matrix.min(), ratings_train_matrix.max()))\n",
    "\n",
    "# Convertir `train_data` en DataFrame avec les colonnes appropriées\n",
    "# Assurez-vous que `train_data` contient les bonnes données sous forme de listes ou d'array\n",
    "# Les colonnes doivent être [\"user_id\", \"item_id\", \"rating\"]\n",
    "train_data_df = pd.DataFrame(train_data, columns=[\"user_id\", \"item_id\", \"rating\"])\n",
    "\n",
    "# Chargement du dataset avec surprise\n",
    "train_dataset = Dataset.load_from_df(train_data_df, reader)\n",
    "trainset = train_dataset.build_full_trainset()\n"
   ]
  },
  {
   "cell_type": "code",
   "execution_count": 34,
   "metadata": {},
   "outputs": [
    {
     "data": {
      "text/plain": [
       "<surprise.prediction_algorithms.matrix_factorization.SVD at 0x163b38860>"
      ]
     },
     "execution_count": 34,
     "metadata": {},
     "output_type": "execute_result"
    }
   ],
   "source": [
    "# Modele de recommandation avec svd\n",
    "model = SVD(n_factors = 10,reg_all = 0.01 ,lr_all = 0.1)\n",
    "model.fit(trainset)"
   ]
  },
  {
   "cell_type": "code",
   "execution_count": 35,
   "metadata": {},
   "outputs": [],
   "source": [
    "#Predictions\n",
    "predicted_ratings = []\n",
    "for user_index, product_index in list_index_wanted:\n",
    "    pred = model.predict(user_index, product_index)\n",
    "    predicted_ratings.append((user_index, product_index, pred.est))"
   ]
  },
  {
   "cell_type": "code",
   "execution_count": 36,
   "metadata": {},
   "outputs": [],
   "source": [
    "import pandas as pd\n",
    "\n",
    "# Création de test_data en tant que DataFrame directement avec les colonnes nécessaires\n",
    "test_data = [\n",
    "    (i + 1, j + 1, ratings_test_matrix[i, j])\n",
    "    for i in range(ratings_test_matrix.shape[0])\n",
    "    for j in range(ratings_test_matrix.shape[1])\n",
    "    if ratings_test_matrix[i, j] != 0\n",
    "]\n",
    "\n",
    "# Conversion en DataFrame avec les colonnes 'user_id', 'item_id', 'rating'\n",
    "test_data_df = pd.DataFrame(test_data, columns=[\"user_id\", \"item_id\", \"rating\"])\n",
    "\n",
    "# Utilisation du DataFrame avec Dataset.load_from_df\n",
    "test_dataset = Dataset.load_from_df(test_data_df, reader)\n",
    "testset = test_dataset.build_full_trainset()\n"
   ]
  },
  {
   "cell_type": "code",
   "execution_count": 37,
   "metadata": {},
   "outputs": [
    {
     "name": "stdout",
     "output_type": "stream",
     "text": [
      "RMSE: 0.3500\n"
     ]
    }
   ],
   "source": [
    "# Créer un ensemble de test en fonction de l'ensemble d'entraînement\n",
    "testset = trainset.build_testset()\n",
    "\n",
    "# Prédire et calculer la RMSE\n",
    "test_predictions = model.test(testset)\n",
    "rmse = accuracy.rmse(test_predictions)\n"
   ]
  }
 ],
 "metadata": {
  "kernelspec": {
   "display_name": ".venv",
   "language": "python",
   "name": "python3"
  },
  "language_info": {
   "codemirror_mode": {
    "name": "ipython",
    "version": 3
   },
   "file_extension": ".py",
   "mimetype": "text/x-python",
   "name": "python",
   "nbconvert_exporter": "python",
   "pygments_lexer": "ipython3",
   "version": "3.12.2"
  }
 },
 "nbformat": 4,
 "nbformat_minor": 2
}
