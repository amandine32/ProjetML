{
 "cells": [
  {
   "cell_type": "code",
   "execution_count": 1,
   "metadata": {},
   "outputs": [],
   "source": [
    "import numpy as np\n"
   ]
  },
  {
   "cell_type": "code",
   "execution_count": 2,
   "metadata": {},
   "outputs": [],
   "source": [
    "ratings_train = np.load('ratings_train.npy')\n",
    "ratings_test = np.load('ratings_test.npy')\n",
    "namegenres = np.load('namesngenre.npy', allow_pickle=True)\n",
    "list_index_wanted = np.load('list_index_wanted.npy')\n"
   ]
  },
  {
   "cell_type": "code",
   "execution_count": 3,
   "metadata": {},
   "outputs": [
    {
     "name": "stdout",
     "output_type": "stream",
     "text": [
      "Dimensions de ratings_train: (610, 4980)\n",
      "Dimensions de ratings_test: (610, 4980)\n",
      "Dimensions de namegenres: (4980, 2)\n",
      "Dimensions de list_index_wanted: (31598, 2)\n"
     ]
    }
   ],
   "source": [
    "print(\"Dimensions de ratings_train:\", ratings_train.shape)\n",
    "print(\"Dimensions de ratings_test:\", ratings_test.shape)\n",
    "print(\"Dimensions de namegenres:\", namegenres.shape)\n",
    "print(\"Dimensions de list_index_wanted:\", list_index_wanted.shape)\n"
   ]
  },
  {
   "cell_type": "code",
   "execution_count": 4,
   "metadata": {},
   "outputs": [
    {
     "name": "stdout",
     "output_type": "stream",
     "text": [
      "Aperçu de ratings_train: [[ 4. nan nan ... nan nan nan]\n",
      " [nan nan nan ... nan nan nan]\n",
      " [nan nan nan ... nan nan nan]\n",
      " [nan nan nan ... nan nan nan]\n",
      " [nan nan nan ... nan nan nan]]\n",
      "Aperçu de ratings_test: [[nan nan  4. ... nan nan nan]\n",
      " [nan nan nan ... nan nan nan]\n",
      " [nan nan nan ... nan nan nan]\n",
      " [nan nan nan ... nan nan nan]\n",
      " [ 4. nan nan ... nan nan nan]]\n",
      "Aperçu de namegenres: [['Toy Story (1995)' 'Adventure|Animation|Children|Comedy|Fantasy']\n",
      " ['Jumanji (1995)' 'Adventure|Children|Fantasy']\n",
      " ['Grumpier Old Men (1995)' 'Comedy|Romance']\n",
      " ['Waiting to Exhale (1995)' 'Comedy|Drama|Romance']\n",
      " ['Father of the Bride Part II (1995)' 'Comedy']]\n",
      "Aperçu de list_index_wanted: [[  0  42]\n",
      " [  0 237]\n",
      " [  0 250]\n",
      " [  0 261]\n",
      " [  0 265]]\n"
     ]
    }
   ],
   "source": [
    "import numpy as np\n",
    "\n",
    "# Charger les données\n",
    "ratings_train = np.load('ratings_train.npy')\n",
    "ratings_test = np.load('ratings_test.npy')\n",
    "namegenres = np.load('namesngenre.npy', allow_pickle=True)  # Si le fichier contient des données de types variés\n",
    "list_index_wanted = np.load('list_index_wanted.npy')\n",
    "\n",
    "# Afficher un aperçu des données\n",
    "print(\"Aperçu de ratings_train:\", ratings_train[:5])  # Affiche les 5 premières lignes\n",
    "print(\"Aperçu de ratings_test:\", ratings_test[:5])    # Affiche les 5 premières lignes\n",
    "print(\"Aperçu de namegenres:\", namegenres[:5])        # Affiche les 5 premières lignes\n",
    "print(\"Aperçu de list_index_wanted:\", list_index_wanted[:5])  # Affiche les 5 premières lignes\n"
   ]
  }
 ],
 "metadata": {
  "kernelspec": {
   "display_name": ".venv",
   "language": "python",
   "name": "python3"
  },
  "language_info": {
   "codemirror_mode": {
    "name": "ipython",
    "version": 3
   },
   "file_extension": ".py",
   "mimetype": "text/x-python",
   "name": "python",
   "nbconvert_exporter": "python",
   "pygments_lexer": "ipython3",
   "version": "3.9.6"
  }
 },
 "nbformat": 4,
 "nbformat_minor": 2
}
